{
 "cells": [
  {
   "cell_type": "markdown",
   "id": "1b8ba3e0",
   "metadata": {},
   "source": [
    "1. Write a Python program to convert kilometers to miles?"
   ]
  },
  {
   "cell_type": "code",
   "execution_count": 1,
   "id": "618bf1cf",
   "metadata": {},
   "outputs": [
    {
     "name": "stdout",
     "output_type": "stream",
     "text": [
      "Enter a kilometers15\n",
      "The 15.0 kilometers is equals to 9.320565 miles\n"
     ]
    }
   ],
   "source": [
    "km=float(input(\"Enter a kilometers\"))\n",
    "mile=0.621371\n",
    "miles=km*mile\n",
    "print(f\"The {km} kilometers is equals to {miles} miles\")"
   ]
  },
  {
   "cell_type": "markdown",
   "id": "e8f76b5e",
   "metadata": {},
   "source": [
    "2. Write a Python program to convert Celsius to Fahrenheit?"
   ]
  },
  {
   "cell_type": "code",
   "execution_count": 2,
   "id": "6c6c59d9",
   "metadata": {},
   "outputs": [
    {
     "name": "stdout",
     "output_type": "stream",
     "text": [
      "Enter a temperature in celsius6\n",
      "Your temperature is 42.8 fahrenheit\n"
     ]
    }
   ],
   "source": [
    "celsius=float(input(\"Enter a temperature in celsius\"))\n",
    "fahrenheit=(celsius * 9/5) + 32\n",
    "print(f\"Your temperature is {fahrenheit} fahrenheit\")"
   ]
  },
  {
   "cell_type": "markdown",
   "id": "38db8f36",
   "metadata": {},
   "source": [
    "3. Write a Python program to display calendar?"
   ]
  },
  {
   "cell_type": "code",
   "execution_count": 3,
   "id": "0c8e3b67",
   "metadata": {},
   "outputs": [
    {
     "name": "stdout",
     "output_type": "stream",
     "text": [
      "Enter a year 2023\n",
      "Enter a month 1\n",
      "    January 2023\n",
      "Mo Tu We Th Fr Sa Su\n",
      "                   1\n",
      " 2  3  4  5  6  7  8\n",
      " 9 10 11 12 13 14 15\n",
      "16 17 18 19 20 21 22\n",
      "23 24 25 26 27 28 29\n",
      "30 31\n",
      "\n"
     ]
    }
   ],
   "source": [
    "import calendar\n",
    "year=int(input(\"Enter a year \"))\n",
    "month=int(input(\"Enter a month \"))\n",
    "print(calendar.month(year, month))"
   ]
  },
  {
   "cell_type": "markdown",
   "id": "db17cd73",
   "metadata": {},
   "source": [
    "4. Write a Python program to solve quadratic equation?"
   ]
  },
  {
   "cell_type": "code",
   "execution_count": 4,
   "id": "55369b3e",
   "metadata": {},
   "outputs": [
    {
     "name": "stdout",
     "output_type": "stream",
     "text": [
      "The quadratic form is ax**2 + bx + c=0\n",
      "The soln of quadratic equation is given by (-b ± (b ** 2 - 4 * a * c) ** 0.5) / (2 * a)\n",
      "Enter a real number 1\n",
      "Enter a real number 2\n",
      "Enter a real number 3\n",
      "Calculating the discriminant\n",
      "Finding the two solutions\n",
      "The roots are\n",
      "(-1-1.4142135623730951j)\n",
      "(-1-1.4142135623730951j)\n"
     ]
    }
   ],
   "source": [
    "import cmath\n",
    "print(\"The quadratic form is ax**2 + bx + c=0\")\n",
    "print(\"The soln of quadratic equation is given by (-b ± (b ** 2 - 4 * a * c) ** 0.5) / (2 * a)\")\n",
    "a=float(input(\"Enter a real number \"))\n",
    "b=float(input(\"Enter a real number \"))\n",
    "c=float(input(\"Enter a real number \"))\n",
    "print(\"Calculating the discriminant\")\n",
    "d=(b**2)-(4*a*c)\n",
    "print(\"Finding the two solutions\")\n",
    "solution1=(-b-cmath.sqrt(d))/(2*a)\n",
    "solution2=(-b-cmath.sqrt(d))/(2*a)\n",
    "print(\"The roots are\")\n",
    "print(solution1)\n",
    "print(solution2)"
   ]
  },
  {
   "cell_type": "markdown",
   "id": "696c813f",
   "metadata": {},
   "source": [
    "5. Write a Python program to swap two variables without temp variable?"
   ]
  },
  {
   "cell_type": "code",
   "execution_count": 6,
   "id": "14be7a06",
   "metadata": {},
   "outputs": [
    {
     "name": "stdout",
     "output_type": "stream",
     "text": [
      "ENter a number 4\n",
      "ENter a number 5\n",
      "the number before swapping\n",
      "The value of a is 4.0 \n",
      "The value of b is 5.0 \n",
      "The number after swapping\n",
      "The value of a is 5.0 \n",
      "The value of a is 4.0 \n"
     ]
    }
   ],
   "source": [
    "a=float(input(\"ENter a number \"))\n",
    "b=float(input(\"ENter a number \"))\n",
    "print(\"the number before swapping\")\n",
    "print(f\"The value of a is {a} \")\n",
    "print(f\"The value of b is {b} \")\n",
    "a,b=b,a\n",
    "print(\"The number after swapping\")\n",
    "print(f\"The value of a is {a} \")\n",
    "print(f\"The value of a is {b} \")"
   ]
  },
  {
   "cell_type": "code",
   "execution_count": null,
   "id": "88fb9666",
   "metadata": {},
   "outputs": [],
   "source": []
  }
 ],
 "metadata": {
  "kernelspec": {
   "display_name": "Python 3 (ipykernel)",
   "language": "python",
   "name": "python3"
  },
  "language_info": {
   "codemirror_mode": {
    "name": "ipython",
    "version": 3
   },
   "file_extension": ".py",
   "mimetype": "text/x-python",
   "name": "python",
   "nbconvert_exporter": "python",
   "pygments_lexer": "ipython3",
   "version": "3.9.7"
  }
 },
 "nbformat": 4,
 "nbformat_minor": 5
}
